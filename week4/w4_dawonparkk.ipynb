{
  "nbformat": 4,
  "nbformat_minor": 0,
  "metadata": {
    "colab": {
      "provenance": [],
      "toc_visible": true
    },
    "kernelspec": {
      "name": "python3",
      "display_name": "Python 3"
    },
    "language_info": {
      "name": "python"
    }
  },
  "cells": [
    {
      "cell_type": "markdown",
      "source": [
        "## (1) 4주차 고정문제\n",
        "- 2주차:[완전탐색 카펫](https://school.programmers.co.kr/learn/courses/30/lessons/42842)"
      ],
      "metadata": {
        "id": "rwXUFzMVT7aV"
      }
    },
    {
      "cell_type": "code",
      "source": [
        "import math\n",
        "# O(sqrt(n))\n",
        "def solution(brown, yellow):\n",
        "    for b in range(1, int(math.sqrt(brown + yellow)) + 1):\n",
        "        if (brown + yellow) % b == 0:\n",
        "            a = (brown + yellow) // b\n",
        "            if 2 * a + 2 * b - 4 == brown:\n",
        "                return (a, b)\n",
        "    return (0, 0)"
      ],
      "metadata": {
        "id": "6J2PAJeHT-4-"
      },
      "execution_count": 1,
      "outputs": []
    },
    {
      "cell_type": "markdown",
      "source": [
        "## (2) 4주차별 자유 문제\n",
        "- [그리디 구명보트](https://school.programmers.co.kr/learn/courses/30/lessons/42885)"
      ],
      "metadata": {
        "id": "nZ2fvrgUUNXW"
      }
    },
    {
      "cell_type": "code",
      "source": [
        "#O(nlog(n)) 리스트 정렬 (순회는 O(n))\n",
        "def solution(people, limit):\n",
        "    answer = 0\n",
        "    people.sort()\n",
        "    left, right = 0, len(people) - 1\n",
        "    \n",
        "    while left <= right:\n",
        "        if people[left] + people[right] <= limit:\n",
        "            left += 1\n",
        "        right -= 1\n",
        "        answer += 1\n",
        "    \n",
        "    return answer"
      ],
      "metadata": {
        "id": "1p4uHXQpUM5C"
      },
      "execution_count": null,
      "outputs": []
    },
    {
      "cell_type": "markdown",
      "source": [
        "## (3) 4주차별 자유 문제\n",
        "- [실패율](https://school.programmers.co.kr/learn/courses/30/lessons/42889)"
      ],
      "metadata": {
        "id": "5ql75BDwU7_0"
      }
    },
    {
      "cell_type": "code",
      "source": [
        "#O(nlog(n))\n",
        "def solution(N, stages):\n",
        "    answer = []\n",
        "    total = len(stages)\n",
        "    \n",
        "    fail_rate = {}\n",
        "    for stage in range(1, N+1):\n",
        "        count = stages.count(stage)\n",
        "        if count == 0:\n",
        "            fail_rate[stage] = 0\n",
        "        else:\n",
        "            fail_rate[stage] = count / total\n",
        "            total -= count\n",
        "    \n",
        "    answer = sorted(fail_rate, key=lambda x: fail_rate[x], reverse=True)\n",
        "    return answer"
      ],
      "metadata": {
        "id": "PE2Cp26GVF6u"
      },
      "execution_count": null,
      "outputs": []
    }
  ]
}